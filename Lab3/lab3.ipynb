{
 "cells": [
  {
   "cell_type": "markdown",
   "id": "stretch-cuisine",
   "metadata": {},
   "source": [
    "### Роботу виконав студент ІВ-93, Трибушенко Артем, варіант якого - 327"
   ]
  },
  {
   "cell_type": "code",
   "execution_count": 1,
   "id": "faced-homework",
   "metadata": {},
   "outputs": [],
   "source": [
    "import numpy as np\n",
    "import pandas as pd"
   ]
  },
  {
   "cell_type": "markdown",
   "id": "extensive-tomato",
   "metadata": {},
   "source": [
    "## Дані відповідно варіанту"
   ]
  },
  {
   "cell_type": "code",
   "execution_count": 3,
   "id": "surprised-regard",
   "metadata": {},
   "outputs": [],
   "source": [
    "x1_min = 10\n",
    "x1_max = 60\n",
    "x2_min = -35\n",
    "x2_max = 10\n",
    "x3_min = -30\n",
    "x3_max = 45\n",
    "\n",
    "x_avg_max = np.mean([x1_max, x2_max, x3_max])\n",
    "x_avg_min = np.mean([x1_min, x2_min, x3_min])\n",
    "\n",
    "y_max = 200 + x_avg_max\n",
    "y_min = 200 + x_avg_min\n",
    "\n",
    "factors_table = [[1, 1, 1, 1],\n",
    "                 [-1, -1, +1, +1],\n",
    "                 [-1, +1, -1, +1],\n",
    "                 [-1, +1, +1, -1]]"
   ]
  },
  {
   "cell_type": "markdown",
   "id": "ambient-argument",
   "metadata": {},
   "source": [
    "## Кількість строк і рядків"
   ]
  },
  {
   "cell_type": "code",
   "execution_count": 4,
   "id": "further-source",
   "metadata": {},
   "outputs": [],
   "source": [
    "n = 4\n",
    "m = 3"
   ]
  },
  {
   "cell_type": "markdown",
   "id": "premium-appendix",
   "metadata": {},
   "source": [
    "## Заповнення матриці планування"
   ]
  },
  {
   "cell_type": "code",
   "execution_count": 6,
   "id": "honest-import",
   "metadata": {},
   "outputs": [],
   "source": [
    "x1 = np.array([x1_min, x1_min, x1_max, x1_max])\n",
    "x2 = np.array([x2_min, x2_max, x2_min, x2_max])\n",
    "x3 = np.array([x3_min, x3_max, x3_max, x3_min])\n",
    "y1 = np.array([np.random.randint(y_min, y_max) for i in range(n)])\n",
    "y2 = np.array([np.random.randint(y_min, y_max) for i in range(n)])\n",
    "y3 = np.array([np.random.randint(y_min, y_max) for i in range(n)])\n",
    "df_plan = pd.DataFrame({\"x1\" : x1, \"x2\" : x2, \"x3\" : x3, \"y1\" : y1, \"y2\" : y2, \"y3\" : y3})"
   ]
  },
  {
   "cell_type": "markdown",
   "id": "printable-religious",
   "metadata": {},
   "source": [
    "## Середнє по у"
   ]
  },
  {
   "cell_type": "code",
   "execution_count": 7,
   "id": "missing-render",
   "metadata": {},
   "outputs": [
    {
     "data": {
      "text/plain": [
       "[212.33333333333334,\n",
       " 210.66666666666666,\n",
       " 215.33333333333334,\n",
       " 203.66666666666666]"
      ]
     },
     "execution_count": 7,
     "metadata": {},
     "output_type": "execute_result"
    }
   ],
   "source": [
    "ys = [\"y1\", \"y2\", \"y3\"]\n",
    "y1_mean_row, y2_mean_row, y3_mean_row, y4_mean_row = np.mean(df_plan[ys], axis=1)\n",
    "mean_ys_row = [y1_mean_row, y2_mean_row, y3_mean_row, y4_mean_row]\n",
    "mean_ys_row"
   ]
  },
  {
   "cell_type": "markdown",
   "id": "civil-findings",
   "metadata": {},
   "source": [
    "## Середнє по х"
   ]
  },
  {
   "cell_type": "code",
   "execution_count": 9,
   "id": "tutorial-meter",
   "metadata": {},
   "outputs": [
    {
     "data": {
      "text/plain": [
       "(35.0, -12.5, 7.5)"
      ]
     },
     "execution_count": 9,
     "metadata": {},
     "output_type": "execute_result"
    }
   ],
   "source": [
    "xs = [\"x1\", \"x2\", \"x3\"]\n",
    "x1_mean_col, x2_mean_col, x3_mean_col = np.mean(df_plan[xs], axis=0)\n",
    "x1_mean_col, x2_mean_col, x3_mean_col"
   ]
  },
  {
   "cell_type": "markdown",
   "id": "fluid-approach",
   "metadata": {},
   "source": [
    "## Середнє по середнім у"
   ]
  },
  {
   "cell_type": "code",
   "execution_count": 11,
   "id": "juvenile-minneapolis",
   "metadata": {},
   "outputs": [
    {
     "data": {
      "text/plain": [
       "210.5"
      ]
     },
     "execution_count": 11,
     "metadata": {},
     "output_type": "execute_result"
    }
   ],
   "source": [
    "mean_y = np.mean([y1_mean_row, y2_mean_row, y3_mean_row, y4_mean_row])\n",
    "mean_y"
   ]
  },
  {
   "cell_type": "markdown",
   "id": "accompanied-shelf",
   "metadata": {},
   "source": [
    "## Підрахунок a1, a2, a3"
   ]
  },
  {
   "cell_type": "code",
   "execution_count": 13,
   "id": "native-torture",
   "metadata": {},
   "outputs": [
    {
     "name": "stdout",
     "output_type": "stream",
     "text": [
      "a1 =  7342.5 \n",
      "a2 =  -2706.25 \n",
      "a3 =  1672.5\n"
     ]
    }
   ],
   "source": [
    "a1 = sum([df_plan[\"x1\"][i] * mean_ys_row[i] for i in range(len(mean_ys_row))]) / len(mean_ys_row)\n",
    "a2 = sum([df_plan[\"x2\"][i] * mean_ys_row[i] for i in range(len(mean_ys_row))]) / len(mean_ys_row)\n",
    "a3 = sum([df_plan[\"x3\"][i] * mean_ys_row[i] for i in range(len(mean_ys_row))]) / len(mean_ys_row)\n",
    "print(\"a1 = \", a1, \"\\na2 = \", round(a2, 3), \"\\na3 = \", a3)"
   ]
  },
  {
   "cell_type": "markdown",
   "id": "pleasant-wrapping",
   "metadata": {},
   "source": [
    "## Підрахунок a11, a22, a33, a12, a13, a23"
   ]
  },
  {
   "cell_type": "code",
   "execution_count": 15,
   "id": "narrow-nutrition",
   "metadata": {},
   "outputs": [
    {
     "name": "stdout",
     "output_type": "stream",
     "text": [
      "a11 =  1850.0 \n",
      "a22 =  662.5 \n",
      "a33 =  1462.5\n"
     ]
    }
   ],
   "source": [
    "a11 = sum(np.square(df_plan[\"x1\"])) / len(mean_ys_row)\n",
    "a22 = sum(np.square(df_plan[\"x2\"])) / len(mean_ys_row)\n",
    "a33 = sum(np.square(df_plan[\"x3\"])) / len(mean_ys_row)\n",
    "print(\"a11 = \", a11, \"\\na22 = \", round(a22, 3), \"\\na33 = \", a33)"
   ]
  },
  {
   "cell_type": "code",
   "execution_count": 16,
   "id": "unable-marketing",
   "metadata": {},
   "outputs": [],
   "source": [
    "a12 = sum([df_plan[\"x1\"][i] * df_plan[\"x2\"][i] for i in range(len(df_plan[\"x1\"]))]) / len(mean_ys_row)\n",
    "a13 = sum([df_plan[\"x1\"][i] * df_plan[\"x3\"][i] for i in range(len(df_plan[\"x1\"]))]) / len(mean_ys_row)\n",
    "a23 = sum([df_plan[\"x2\"][i] * df_plan[\"x3\"][i] for i in range(len(df_plan[\"x1\"]))]) / len(mean_ys_row)"
   ]
  },
  {
   "cell_type": "code",
   "execution_count": 17,
   "id": "accompanied-lingerie",
   "metadata": {},
   "outputs": [
    {
     "name": "stdout",
     "output_type": "stream",
     "text": [
      "a21 = a12 = -437.5 \n",
      "a31 = a13 = 262.5 \n",
      "a32 = a23 = -93.75\n"
     ]
    }
   ],
   "source": [
    "a21 = a12\n",
    "a31 = a13\n",
    "a32 = a23\n",
    "print(\"a21 = a12 =\", a21, \"\\na31 = a13 =\", a31, \"\\na32 = a23 =\", a32)"
   ]
  },
  {
   "cell_type": "markdown",
   "id": "designed-cement",
   "metadata": {},
   "source": [
    "## Коефіцієнти регресії"
   ]
  },
  {
   "cell_type": "code",
   "execution_count": 19,
   "id": "compressed-peripheral",
   "metadata": {},
   "outputs": [
    {
     "name": "stdout",
     "output_type": "stream",
     "text": [
      "b0 = 209.5481481481487 \n",
      "b1 = -0.04 \n",
      "b2 = -0.1481481481481487 \n",
      "b3 = 0.06666666666666664\n"
     ]
    }
   ],
   "source": [
    "from numpy.linalg import det\n",
    "b0 = det(np.array([[mean_y, x1_mean_col, x2_mean_col, x3_mean_col], \n",
    "                   [a1, a11, a12, a13],\n",
    "                   [a2, a12, a22, a32],\n",
    "                   [a3, a13, a23, a33]])) / det(np.array([[1, x1_mean_col, x2_mean_col, x3_mean_col],\n",
    "                                                          [x1_mean_col, a11, a12, a13],\n",
    "                                                          [x2_mean_col, a12, a22, a32],\n",
    "                                                          [x3_mean_col, a13, a23, a33]]))\n",
    "b1 = det(np.array([[1, mean_y, x2_mean_col, x3_mean_col],\n",
    "                   [x1_mean_col, a1, a12, a13],\n",
    "                   [x2_mean_col, a2, a22, a32],\n",
    "                   [x3_mean_col, a3, a23, a33]])) / det(np.array([[1, x1_mean_col, x2_mean_col, x3_mean_col],\n",
    "                                                                  [x1_mean_col, a11, a12, a13],\n",
    "                                                                  [x2_mean_col, a12, a22, a32],\n",
    "                                                                  [x3_mean_col, a13, a23, a33]]))\n",
    "b2 = det(np.array([[1, x1_mean_col, mean_y, x3_mean_col],\n",
    "                   [x1_mean_col, a11, a1, a13],\n",
    "                   [x2_mean_col, a12, a2, a32],\n",
    "                   [x3_mean_col, a13, a3, a33]])) / det(np.array([[1, x1_mean_col, x2_mean_col, x3_mean_col],\n",
    "                                                                  [x1_mean_col, a11, a12, a13],\n",
    "                                                                  [x2_mean_col, a12, a22, a32],\n",
    "                                                                  [x3_mean_col, a13, a23, a33]]))\n",
    "b3 = det(np.array([[1, x1_mean_col, x2_mean_col, mean_y],\n",
    "                   [x1_mean_col, a11, a12, a1],\n",
    "                   [x2_mean_col, a12, a22, a2],\n",
    "                   [x3_mean_col, a13, a23, a3]])) / det(np.array([[1, x1_mean_col, x2_mean_col, x3_mean_col],\n",
    "                                                                  [x1_mean_col, a11, a12, a13],\n",
    "                                                                  [x2_mean_col, a12, a22, a32],\n",
    "                                                                  [x3_mean_col, a13, a23, a33]]))\n",
    "print(\"b0 =\",b0, \"\\nb1 =\", round(b1, 2), \"\\nb2 =\", b2, \"\\nb3 =\", b3)"
   ]
  },
  {
   "cell_type": "markdown",
   "id": "promising-tamil",
   "metadata": {},
   "source": [
    "## Підрахунок результатів регресії"
   ]
  },
  {
   "cell_type": "code",
   "execution_count": 20,
   "id": "harmful-marine",
   "metadata": {},
   "outputs": [],
   "source": [
    "regression = df_plan.loc[:, [\"x1\", \"x2\", \"x3\"]] * [b1, b2, b3]\n",
    "y_not_finished = regression.apply(sum, axis=1)\n",
    "mean_y_finish = (b0 + y_not_finished).tolist()"
   ]
  },
  {
   "cell_type": "markdown",
   "id": "assisted-measurement",
   "metadata": {},
   "source": [
    "## Порівняння кінечних результатів регресії з даними на початку"
   ]
  },
  {
   "cell_type": "code",
   "execution_count": 22,
   "id": "burning-saudi",
   "metadata": {},
   "outputs": [
    {
     "name": "stdout",
     "output_type": "stream",
     "text": [
      "given mean of y = 212.33333 <--------> result of regression = 212.33333\n",
      "given mean of y = 210.66667 <--------> result of regression = 210.66667\n",
      "given mean of y = 215.33333 <--------> result of regression = 215.33333\n",
      "given mean of y = 203.66667 <--------> result of regression = 203.66667\n"
     ]
    }
   ],
   "source": [
    "mean = [y1_mean_row, y2_mean_row, y3_mean_row, y4_mean_row]\n",
    "for i in range(len(mean_y_finish)):\n",
    "    print(f\"given mean of y = {round(mean[i], 5)} <--------> result of regression = {round(mean_y_finish[i], 5)}\")"
   ]
  },
  {
   "cell_type": "markdown",
   "id": "changing-wayne",
   "metadata": {},
   "source": [
    "## ↑ Результати сходяться. Чудово! ↑"
   ]
  },
  {
   "cell_type": "code",
   "execution_count": 23,
   "id": "korean-celtic",
   "metadata": {},
   "outputs": [
    {
     "data": {
      "text/html": [
       "<div>\n",
       "<style scoped>\n",
       "    .dataframe tbody tr th:only-of-type {\n",
       "        vertical-align: middle;\n",
       "    }\n",
       "\n",
       "    .dataframe tbody tr th {\n",
       "        vertical-align: top;\n",
       "    }\n",
       "\n",
       "    .dataframe thead th {\n",
       "        text-align: right;\n",
       "    }\n",
       "</style>\n",
       "<table border=\"1\" class=\"dataframe\">\n",
       "  <thead>\n",
       "    <tr style=\"text-align: right;\">\n",
       "      <th></th>\n",
       "      <th>x0_norm</th>\n",
       "      <th>x1_norm</th>\n",
       "      <th>x2_norm</th>\n",
       "      <th>x3_norm</th>\n",
       "      <th>y1</th>\n",
       "      <th>y2</th>\n",
       "      <th>y3</th>\n",
       "    </tr>\n",
       "  </thead>\n",
       "  <tbody>\n",
       "    <tr>\n",
       "      <th>0</th>\n",
       "      <td>1</td>\n",
       "      <td>-1</td>\n",
       "      <td>-1</td>\n",
       "      <td>-1</td>\n",
       "      <td>220</td>\n",
       "      <td>196</td>\n",
       "      <td>221</td>\n",
       "    </tr>\n",
       "    <tr>\n",
       "      <th>1</th>\n",
       "      <td>1</td>\n",
       "      <td>-1</td>\n",
       "      <td>1</td>\n",
       "      <td>1</td>\n",
       "      <td>220</td>\n",
       "      <td>186</td>\n",
       "      <td>226</td>\n",
       "    </tr>\n",
       "    <tr>\n",
       "      <th>2</th>\n",
       "      <td>1</td>\n",
       "      <td>1</td>\n",
       "      <td>-1</td>\n",
       "      <td>1</td>\n",
       "      <td>219</td>\n",
       "      <td>196</td>\n",
       "      <td>231</td>\n",
       "    </tr>\n",
       "    <tr>\n",
       "      <th>3</th>\n",
       "      <td>1</td>\n",
       "      <td>1</td>\n",
       "      <td>1</td>\n",
       "      <td>-1</td>\n",
       "      <td>201</td>\n",
       "      <td>224</td>\n",
       "      <td>186</td>\n",
       "    </tr>\n",
       "  </tbody>\n",
       "</table>\n",
       "</div>"
      ],
      "text/plain": [
       "   x0_norm  x1_norm  x2_norm  x3_norm   y1   y2   y3\n",
       "0        1       -1       -1       -1  220  196  221\n",
       "1        1       -1        1        1  220  186  226\n",
       "2        1        1       -1        1  219  196  231\n",
       "3        1        1        1       -1  201  224  186"
      ]
     },
     "execution_count": 23,
     "metadata": {},
     "output_type": "execute_result"
    }
   ],
   "source": [
    "normalized_data = pd.DataFrame(\n",
    "    {\"x0_norm\" : factors_table[0], \"x1_norm\" : factors_table[1],\n",
    "     \"x2_norm\" : factors_table[2], \"x3_norm\" : factors_table[3],\n",
    "     \"y1\" : y1, \"y2\" : y2, \"y3\" : y3})\n",
    "normalized_data"
   ]
  },
  {
   "cell_type": "markdown",
   "id": "automated-decrease",
   "metadata": {},
   "source": [
    "## Знайдемо дисперсії по рядках"
   ]
  },
  {
   "cell_type": "code",
   "execution_count": 149,
   "id": "extended-runner",
   "metadata": {},
   "outputs": [],
   "source": [
    "df_ys = normalized_data[ys]\n",
    "disps = []"
   ]
  },
  {
   "cell_type": "code",
   "execution_count": 167,
   "id": "induced-extraction",
   "metadata": {},
   "outputs": [],
   "source": [
    "for i in range(4):\n",
    "    disps.append((1/ 3) * (df_ys.iloc[i, 0] - mean_ys_row[i]) ** 2 + (df_ys.iloc[i, 1] - mean_ys_row[i]) ** 2 + \n",
    "                 (df_ys.iloc[i, 2] - mean_ys_row[i]) ** 2) "
   ]
  },
  {
   "cell_type": "markdown",
   "id": "promotional-transcript",
   "metadata": {},
   "source": [
    "### За таблицею в 4 рядку 2 стовпчику  Gt = 0.7679"
   ]
  },
  {
   "cell_type": "code",
   "execution_count": 175,
   "id": "hydraulic-maryland",
   "metadata": {},
   "outputs": [
    {
     "name": "stdout",
     "output_type": "stream",
     "text": [
      "Gp = 0.5380171636557919 < Gт = 0.7679 – Дисперсія однорідна.\n"
     ]
    }
   ],
   "source": [
    "Gt = 0.7679\n",
    "Gp = max(disps) / sum(disps)\n",
    "print(f\"Gp = {Gp} < Gт = {Gt} – Дисперсія однорідна.\")"
   ]
  },
  {
   "cell_type": "markdown",
   "id": "hybrid-convert",
   "metadata": {},
   "source": [
    "## Далі оцінимо значимість коефіцієнтів регресії згідно критерію Стьюдента."
   ]
  },
  {
   "cell_type": "code",
   "execution_count": 194,
   "id": "early-import",
   "metadata": {},
   "outputs": [],
   "source": [
    "Sb = sum(disps) / n\n",
    "Sbetas = Sb / (n * m)\n",
    "SbetasSquare = Sbetas ** (1 / 2)"
   ]
  },
  {
   "cell_type": "code",
   "execution_count": 195,
   "id": "optional-humanitarian",
   "metadata": {},
   "outputs": [
    {
     "name": "stdout",
     "output_type": "stream",
     "text": [
      "beta0 = 212.0;\n",
      "beta1 = 0.0;\n",
      "beta2 = -4.333;\n",
      "beta3 = 1.333\n"
     ]
    }
   ],
   "source": [
    "beta0 = (1 / n) * np.sum([factors_table[0][i] * mean_ys_row[i] for i in range(len(mean_ys_row))])\n",
    "beta1 = (1 / n) * np.sum([factors_table[1][i] * mean_ys_row[i] for i in range(len(mean_ys_row))])\n",
    "beta2 = (1 / n) * np.sum([factors_table[2][i] * mean_ys_row[i] for i in range(len(mean_ys_row))])\n",
    "beta3 = (1 / n) * np.sum([factors_table[3][i] * mean_ys_row[i] for i in range(len(mean_ys_row))])\n",
    "print(f\"beta0 = {beta0};\\nbeta1 = {beta1};\\nbeta2 = {round(beta2, 3)};\\nbeta3 = {round(beta3, 3)}\")"
   ]
  },
  {
   "cell_type": "code",
   "execution_count": 213,
   "id": "spoken-nothing",
   "metadata": {},
   "outputs": [
    {
     "name": "stdout",
     "output_type": "stream",
     "text": [
      "t0 = 31.19;\n",
      "t1 = 0.0;\n",
      "t2 = 0.64;\n",
      "t3 = 0.196\n"
     ]
    }
   ],
   "source": [
    "t0 = np.abs(beta0) / SbetasSquare\n",
    "t1 = np.abs(beta1) / SbetasSquare\n",
    "t2 = np.abs(beta2) / SbetasSquare\n",
    "t3 = np.abs(beta3) / SbetasSquare\n",
    "t_arr = [t0, t1, t2, t3]\n",
    "print(f\"t0 = {round(t0, 2)};\\nt1 = {t1};\\nt2 = {round(t2, 2)};\\nt3 = {round(t3, 3)}\")"
   ]
  },
  {
   "cell_type": "markdown",
   "id": "legislative-marine",
   "metadata": {},
   "source": [
    "## f3 = f1 * f2"
   ]
  },
  {
   "cell_type": "code",
   "execution_count": 214,
   "id": "suffering-ocean",
   "metadata": {},
   "outputs": [
    {
     "name": "stdout",
     "output_type": "stream",
     "text": [
      "Коефіцієнт b1 = 0.0 приймаємо не значним\n",
      "Коефіцієнт b2 = 0.6374306457671197 приймаємо не значним\n",
      "Коефіцієнт b3 = 0.19613250638988253 приймаємо не значним\n"
     ]
    }
   ],
   "source": [
    "indexes = []\n",
    "for i, v in enumerate(t_arr):\n",
    "    if t_arr[i] > 2.306:\n",
    "        indexes.append(i)\n",
    "    else:\n",
    "        print(f'Коефіцієнт b{i} = {v} приймаємо не значним')"
   ]
  },
  {
   "cell_type": "code",
   "execution_count": 215,
   "id": "consecutive-cooperative",
   "metadata": {},
   "outputs": [
    {
     "name": "stdout",
     "output_type": "stream",
     "text": [
      "y = b0\n"
     ]
    }
   ],
   "source": [
    "b_list = [b0, b1, b2, b3]\n",
    "print(f'y = b{indexes[0]}')"
   ]
  },
  {
   "cell_type": "code",
   "execution_count": 216,
   "id": "disturbed-right",
   "metadata": {},
   "outputs": [
    {
     "name": "stdout",
     "output_type": "stream",
     "text": [
      "y = 209.32592592592638\n",
      "y = 209.32592592592638\n",
      "y = 209.32592592592638\n",
      "y = 209.32592592592638\n"
     ]
    }
   ],
   "source": [
    "b_res = [b_list[indexes[0]] for _ in range(4)]\n",
    "for i in b_res:\n",
    "    print(f'y = {i}')"
   ]
  },
  {
   "cell_type": "markdown",
   "id": "reasonable-cosmetic",
   "metadata": {},
   "source": [
    "## Критерій Фішера--------кількість значимих коефіцієнтів--------"
   ]
  },
  {
   "cell_type": "code",
   "execution_count": 221,
   "id": "young-hampton",
   "metadata": {},
   "outputs": [
    {
     "name": "stdout",
     "output_type": "stream",
     "text": [
      "Fp = 2.398054637266362\n",
      "Рівняння регресії адекватно оригіналу при рівні значимості 0.05\n"
     ]
    }
   ],
   "source": [
    "d = 1 # кількість значимих коефіцієнтів\n",
    "s2_ad = m * sum([(mean_ys_row[i] - b_res[i]) ** 2 for i in range(4)]) / (n - d)\n",
    "fp = s2_ad / Sbetas\n",
    "print(f'Fp = {fp}')\n",
    "if fp > 4.5:\n",
    "    print('Рівняння регресії неадекватно оригіналу при рівні значимості 0.05')\n",
    "else:\n",
    "    print('Рівняння регресії адекватно оригіналу при рівні значимості 0.05')"
   ]
  }
 ],
 "metadata": {
  "kernelspec": {
   "display_name": "Python 3",
   "language": "python",
   "name": "python3"
  },
  "language_info": {
   "codemirror_mode": {
    "name": "ipython",
    "version": 3
   },
   "file_extension": ".py",
   "mimetype": "text/x-python",
   "name": "python",
   "nbconvert_exporter": "python",
   "pygments_lexer": "ipython3",
   "version": "3.8.2"
  }
 },
 "nbformat": 4,
 "nbformat_minor": 5
}
